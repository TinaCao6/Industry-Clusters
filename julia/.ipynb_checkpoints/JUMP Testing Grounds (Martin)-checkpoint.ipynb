{
 "cells": [
  {
   "cell_type": "code",
   "execution_count": 1,
   "id": "38f963e6-b946-48c8-ae10-83c687475807",
   "metadata": {},
   "outputs": [],
   "source": [
    "# do importing work in this tab\n",
    "using JuMP\n",
    "# using NLopt\n",
    "using Ipopt"
   ]
  },
  {
   "cell_type": "code",
   "execution_count": 5,
   "id": "213554fb-ffad-4e4f-b937-756ce15934b1",
   "metadata": {},
   "outputs": [
    {
     "data": {
      "text/latex": [
       "$$ \\begin{aligned}\n",
       "\\min\\quad & x + y\\\\\n",
       "\\text{Subject to} \\quad & x^2 + y^2 = 4.0\\\\\n",
       " & x \\geq 0.0\\\\\n",
       " & y \\geq 0.0\\\\\n",
       "\\end{aligned} $$"
      ]
     },
     "metadata": {},
     "output_type": "display_data"
    },
    {
     "name": "stdout",
     "output_type": "stream",
     "text": [
      "This is Ipopt version 3.14.4, running with linear solver MUMPS 5.4.1.\n",
      "\n",
      "Number of nonzeros in equality constraint Jacobian...:        2\n",
      "Number of nonzeros in inequality constraint Jacobian.:        0\n",
      "Number of nonzeros in Lagrangian Hessian.............:        2\n",
      "\n",
      "Total number of variables............................:        2\n",
      "                     variables with only lower bounds:        2\n",
      "                variables with lower and upper bounds:        0\n",
      "                     variables with only upper bounds:        0\n",
      "Total number of equality constraints.................:        1\n",
      "Total number of inequality constraints...............:        0\n",
      "        inequality constraints with only lower bounds:        0\n",
      "   inequality constraints with lower and upper bounds:        0\n",
      "        inequality constraints with only upper bounds:        0\n",
      "\n",
      "iter    objective    inf_pr   inf_du lg(mu)  ||d||  lg(rg) alpha_du alpha_pr  ls\n",
      "   0  1.9999980e-02 4.00e+00 0.00e+00  -1.0 0.00e+00    -  0.00e+00 0.00e+00   0\n",
      "   1  3.1448469e+00 9.45e-01 2.45e+04  -1.0 1.00e+02    -  9.91e-05 1.56e-02h  7\n",
      "   2  2.8443455e+00 4.52e-02 1.34e+05  -1.0 1.50e-01   6.0 1.00e+00 1.00e+00h  1\n",
      "   3  2.8284717e+00 1.26e-04 7.42e+02  -1.0 7.94e-03    -  1.00e+00 1.00e+00h  1\n",
      "   4  2.8284271e+00 9.92e-10 1.17e-02  -1.0 2.23e-05    -  1.00e+00 1.00e+00h  1\n",
      "   5  2.8284271e+00 0.00e+00 5.84e-05  -2.5 1.75e-10   5.5 1.00e+00 1.00e+00h  1\n",
      "   6  2.8284271e+00 0.00e+00 1.50e-09  -3.8 5.00e-22   5.0 1.00e+00 1.00e+00   0\n",
      "   7  2.8284271e+00 0.00e+00 1.84e-11  -5.7 1.50e-21   4.6 1.00e+00 1.00e+00T  0\n",
      "   8  2.8284271e+00 0.00e+00 2.51e-14  -8.6 8.99e-21   4.1 1.00e+00 1.00e+00T  0\n",
      "\n",
      "Number of Iterations....: 8\n",
      "\n",
      "                                   (scaled)                 (unscaled)\n",
      "Objective...............:   2.8284271247461898e+00    2.8284271247461898e+00\n",
      "Dual infeasibility......:   2.5107151134943551e-14    2.5107151134943551e-14\n",
      "Constraint violation....:   0.0000000000000000e+00    0.0000000000000000e+00\n",
      "Variable bound violation:   0.0000000000000000e+00    0.0000000000000000e+00\n",
      "Complementarity.........:   2.5059035596801040e-09    2.5059035596801040e-09\n",
      "Overall NLP error.......:   2.5059035596801040e-09    2.5059035596801040e-09\n",
      "\n",
      "\n",
      "Number of objective function evaluations             = 17\n",
      "Number of objective gradient evaluations             = 9\n",
      "Number of equality constraint evaluations            = 17\n",
      "Number of inequality constraint evaluations          = 0\n",
      "Number of equality constraint Jacobian evaluations   = 9\n",
      "Number of inequality constraint Jacobian evaluations = 0\n",
      "Number of Lagrangian Hessian evaluations             = 8\n",
      "Total seconds in IPOPT                               = 0.010\n",
      "\n",
      "EXIT: Optimal Solution Found.\n",
      "value(x) = 1.4142135623730951\n",
      "value(y) = 1.414213562373095\n"
     ]
    }
   ],
   "source": [
    "# function diff(x,y)\n",
    "#     return )\n",
    "# end\n",
    "\n",
    "model = Model(Ipopt.Optimizer)\n",
    "@variable(model, x >= 0)\n",
    "@variable(model, y >= 0)\n",
    "@NLobjective(model, Min, x+y)\n",
    "@constraint(model, x*x + y*y == 4)\n",
    "print(model)\n",
    "optimize!(model)\n",
    "@show value(x)\n",
    "@show value(y)\n",
    ";"
   ]
  },
  {
   "cell_type": "code",
   "execution_count": 4,
   "id": "5a837bfd-a5e8-4122-8e96-7f531815f5e1",
   "metadata": {},
   "outputs": [],
   "source": [
    "#We find that JuMP doesn't work exactly how you'd want it to, i.e. >=0 doesn't mean literally what it says and JuMP is not guaranteed to find a true solution.\n",
    "#Notice that the answers we get, sqrt(2) for both x and y, do not minimise x+y. Something closer to x=2, y=0 would be more correct, but JuMP somehow doesn't find it."
   ]
  }
 ],
 "metadata": {
  "kernelspec": {
   "display_name": "Julia 1.6.3",
   "language": "julia",
   "name": "julia-1.6"
  },
  "language_info": {
   "file_extension": ".jl",
   "mimetype": "application/julia",
   "name": "julia",
   "version": "1.6.3"
  }
 },
 "nbformat": 4,
 "nbformat_minor": 5
}
