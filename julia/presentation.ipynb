{
 "cells": [
  {
   "cell_type": "code",
   "execution_count": 3,
   "metadata": {},
   "outputs": [],
   "source": [
    "using JuMP\n",
    "using Ipopt"
   ]
  },
  {
   "cell_type": "code",
   "execution_count": 4,
   "metadata": {},
   "outputs": [
    {
     "data": {
      "text/latex": [
       "$$ \\begin{aligned}\n",
       "\\min\\quad & subexpression_{4}\\\\\n",
       "\\text{Subject to} \\quad & x_{1} - 2.0 * y_{1} = 0\\\\\n",
       " & x_{2} - 2.0 * y_{2} = 0\\\\\n",
       " & x_{3} - 2.0 * y_{3} = 0\\\\\n",
       "\\text{With NL expressions} \\quad & subexpression_{1}: ((x_{1} * x_{1} + y_{1} * y_{1}) - parameter_{1} * parameter_{1}) ^ 2.0\\\\\n",
       " & subexpression_{2}: ((x_{2} * x_{2} + y_{2} * y_{2}) - parameter_{2} * parameter_{2}) ^ 2.0\\\\\n",
       " & subexpression_{3}: ((x_{3} * x_{3} + y_{3} * y_{3}) - parameter_{3} * parameter_{3}) ^ 2.0\\\\\n",
       " & subexpression_{4}: subexpression_{1} + subexpression_{2} + subexpression_{3}\\\\\n",
       "\\end{aligned} $$"
      ]
     },
     "metadata": {},
     "output_type": "display_data"
    },
    {
     "name": "stdout",
     "output_type": "stream",
     "text": [
      "\n",
      "******************************************************************************\n",
      "This program contains Ipopt, a library for large-scale nonlinear optimization.\n",
      " Ipopt is released as open source code under the Eclipse Public License (EPL).\n",
      "         For more information visit https://github.com/coin-or/Ipopt\n",
      "******************************************************************************\n",
      "\n",
      "This is Ipopt version 3.14.4, running with linear solver MUMPS 5.4.1.\n",
      "\n",
      "Number of nonzeros in equality constraint Jacobian...:        6\n",
      "Number of nonzeros in inequality constraint Jacobian.:        0\n",
      "Number of nonzeros in Lagrangian Hessian.............:        9\n",
      "\n",
      "Total number of variables............................:        6\n",
      "                     variables with only lower bounds:        0\n",
      "                variables with lower and upper bounds:        0\n",
      "                     variables with only upper bounds:        0\n",
      "Total number of equality constraints.................:        3\n",
      "Total number of inequality constraints...............:        0\n",
      "        inequality constraints with only lower bounds:        0\n",
      "   inequality constraints with lower and upper bounds:        0\n",
      "        inequality constraints with only upper bounds:        0\n",
      "\n",
      "iter    objective    inf_pr   inf_du lg(mu)  ||d||  lg(rg) alpha_du alpha_pr  ls\n",
      "   0  5.4000000e+01 1.00e+00 3.36e+01  -1.0 0.00e+00    -  0.00e+00 0.00e+00   0\n",
      "   1  3.7115877e+01 0.00e+00 5.64e+01  -1.0 6.11e-01   2.0 1.00e+00 1.00e+00f  1\n",
      "   2  1.6348844e+01 0.00e+00 5.76e+01  -1.0 1.26e+01    -  1.00e+00 1.25e-01f  4\n",
      "   3  1.3575313e+00 0.00e+00 7.61e+00  -1.0 5.52e-01    -  1.00e+00 1.00e+00f  1\n",
      "   4  1.5093687e-02 0.00e+00 8.50e-01  -1.0 1.71e-01    -  1.00e+00 1.00e+00f  1\n",
      "   5  6.0350894e-06 0.00e+00 1.75e-02  -1.7 2.54e-02    -  1.00e+00 1.00e+00f  1\n",
      "   6  1.2653747e-12 0.00e+00 8.05e-06  -3.8 5.48e-04    -  1.00e+00 1.00e+00f  1\n",
      "   7  5.6237154e-26 0.00e+00 1.70e-12  -8.6 2.52e-07    -  1.00e+00 1.00e+00f  1\n",
      "\n",
      "Number of Iterations....: 7\n",
      "\n",
      "                                   (scaled)                 (unscaled)\n",
      "Objective...............:   5.6237154376107287e-26    5.6237154376107287e-26\n",
      "Dual infeasibility......:   1.6968617446318605e-12    1.6968617446318605e-12\n",
      "Constraint violation....:   0.0000000000000000e+00    0.0000000000000000e+00\n",
      "Variable bound violation:   0.0000000000000000e+00    0.0000000000000000e+00\n",
      "Complementarity.........:   0.0000000000000000e+00    0.0000000000000000e+00\n",
      "Overall NLP error.......:   1.6968617446318605e-12    1.6968617446318605e-12\n",
      "\n",
      "\n",
      "Number of objective function evaluations             = 12\n",
      "Number of objective gradient evaluations             = 8\n",
      "Number of equality constraint evaluations            = 12\n",
      "Number of inequality constraint evaluations          = 0\n",
      "Number of equality constraint Jacobian evaluations   = 8\n",
      "Number of inequality constraint Jacobian evaluations = 0\n",
      "Number of Lagrangian Hessian evaluations             = 7\n",
      "Total seconds in IPOPT                               = 2.682\n",
      "\n",
      "EXIT: Optimal Solution Found.\n",
      "For circle with radius 1.0 and constraint x[1] - 2.0 * y[1] = 0, solution x = 0.894, y = 0.447\n",
      "For circle with radius 2.0 and constraint x[2] - 2.0 * y[2] = 0, solution x = 1.789, y = 0.894\n",
      "For circle with radius 3.0 and constraint x[3] - 2.0 * y[3] = 0, solution x = 2.683, y = 1.342\n",
      "\n",
      "The output below shows the raw solutions stored internally:\n",
      "\n",
      "value.(x) = 1-dimensional DenseAxisArray{Float64,1,...} with index sets:\n",
      "    Dimension 1, 1:3\n",
      "And data, a 3-element Vector{Float64}:\n",
      " 0.894427190999916\n",
      " 1.7888543819998848\n",
      " 2.6832815729997477\n",
      "value.(y) = 1-dimensional DenseAxisArray{Float64,1,...} with index sets:\n",
      "    Dimension 1, 1:3\n",
      "And data, a 3-element Vector{Float64}:\n",
      " 0.447213595499958\n",
      " 0.8944271909999424\n",
      " 1.3416407864998738\n"
     ]
    },
    {
     "data": {
      "text/plain": [
       "1-dimensional DenseAxisArray{Float64,1,...} with index sets:\n",
       "    Dimension 1, 1:3\n",
       "And data, a 3-element Vector{Float64}:\n",
       " 0.447213595499958\n",
       " 0.8944271909999424\n",
       " 1.3416407864998738"
      ]
     },
     "execution_count": 4,
     "metadata": {},
     "output_type": "execute_result"
    }
   ],
   "source": [
    "num_circles = 1:3\n",
    "\n",
    "model = Model(Ipopt.Optimizer)\n",
    "# set_silent(model) <-- include this line to omit process output\n",
    "\n",
    "@variable(model, x[num_circles], start = 1)\n",
    "@variable(model, y[num_circles], start = 1)\n",
    "@NLparameter(model, r[i = num_circles] == i)\n",
    "\n",
    "squared_diff = @NLexpression(model, [i = num_circles], (x[i]*x[i] + y[i]*y[i] - r[i]*r[i])^2)\n",
    "sum_diff = @NLexpression(model, sum(squared_diff[i] for i=num_circles))\n",
    "\n",
    "@NLobjective(model, Min, sum_diff)\n",
    "\n",
    "@NLconstraint(model, intersection[i=num_circles], x[i] == 2*y[i])\n",
    "\n",
    "# print(model) <-- include this to print your mathematical expressions in a more readable format\n",
    "optimize!(model)\n",
    "\n",
    "for circle in num_circles\n",
    "    circle_r = value.(r)[circle]\n",
    "    circle_constraint = intersection[circle]\n",
    "    solution_x = round((value.(x)[circle]), digits = 3)\n",
    "    solution_y = round((value.(y)[circle]), digits = 3)\n",
    "    print(\"For circle with radius $circle_r and constraint $circle_constraint, solution x = $solution_x, y = $solution_y\")\n",
    "    print(\"\\n\")\n",
    "end\n",
    "print(\"\\n\")\n",
    "print(\"The output below shows the raw solutions stored internally:\\n\\n\")\n",
    "\n",
    "@show value.(x)\n",
    "@show value.(y)"
   ]
  }
 ],
 "metadata": {
  "kernelspec": {
   "display_name": "Julia 1.6.3",
   "language": "julia",
   "name": "julia-1.6"
  },
  "language_info": {
   "file_extension": ".jl",
   "mimetype": "application/julia",
   "name": "julia",
   "version": "1.6.3"
  },
  "orig_nbformat": 4
 },
 "nbformat": 4,
 "nbformat_minor": 2
}
