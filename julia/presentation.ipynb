{
 "cells": [
  {
   "cell_type": "code",
   "execution_count": 3,
   "metadata": {},
   "outputs": [],
   "source": [
    "using JuMP\n",
    "using Ipopt"
   ]
  },
  {
   "cell_type": "code",
   "execution_count": 37,
   "metadata": {},
   "outputs": [
    {
     "data": {
      "text/latex": [
       "$$ \\begin{aligned}\n",
       "\\min\\quad & subexpression_{3}\\\\\n",
       "\\text{Subject to} \\quad & x_{1} - 2.0 * y_{1} = 0\\\\\n",
       " & x_{2} - 2.0 * y_{2} = 0\\\\\n",
       "\\text{With NL expressions} \\quad & subexpression_{1}: ((x_{1} * x_{1} + y_{1} * y_{1}) - parameter_{1} * parameter_{1}) ^ 2.0\\\\\n",
       " & subexpression_{2}: ((x_{2} * x_{2} + y_{2} * y_{2}) - parameter_{2} * parameter_{2}) ^ 2.0\\\\\n",
       " & subexpression_{3}: subexpression_{1} + subexpression_{2}\\\\\n",
       "\\end{aligned} $$"
      ]
     },
     "metadata": {},
     "output_type": "display_data"
    },
    {
     "name": "stdout",
     "output_type": "stream",
     "text": [
      "For circle with radius 1.0 and constraint x[1] - 2.0 * y[1] = 0, solution x = 0.894, y = 0.447\n",
      "For circle with radius 2.0 and constraint x[2] - 2.0 * y[2] = 0, solution x = 1.789, y = 0.894\n",
      "\n",
      "The output below shows the raw solutions stored internally:\n",
      "\n",
      "value.(x) = 1-dimensional DenseAxisArray{Float64,1,...} with index sets:\n",
      "    Dimension 1, 1:2\n",
      "And data, a 2-element Vector{Float64}:\n",
      " 0.8944271909999159\n",
      " 1.788854381999832\n",
      "value.(y) = 1-dimensional DenseAxisArray{Float64,1,...} with index sets:\n",
      "    Dimension 1, 1:2\n",
      "And data, a 2-element Vector{Float64}:\n",
      " 0.4472135954999579\n",
      " 0.894427190999916\n"
     ]
    },
    {
     "data": {
      "text/plain": [
       "1-dimensional DenseAxisArray{Float64,1,...} with index sets:\n",
       "    Dimension 1, 1:2\n",
       "And data, a 2-element Vector{Float64}:\n",
       " 0.4472135954999579\n",
       " 0.894427190999916"
      ]
     },
     "execution_count": 37,
     "metadata": {},
     "output_type": "execute_result"
    }
   ],
   "source": [
    "model = Model(Ipopt.Optimizer)\n",
    "set_silent(model)\n",
    "\n",
    "num_circles = 1:2\n",
    "\n",
    "@variable(model, x[num_circles], start = 1) #<-- the variable's name is defined in the second argument\n",
    "@variable(model, y[num_circles], start = 1)\n",
    "# @variable(model, coords[num_circles, 1:2], start = 1) #<-- this would produce a matrix \n",
    "@NLparameter(model, r[i = num_circles] == i)\n",
    "# Using NLparameter allows us to change model params without having to remake the model\n",
    "\n",
    "squared_diff = @NLexpression(model, [i = num_circles], (x[i]*x[i] + y[i]*y[i] - r[i]*r[i])^2)\n",
    "\n",
    "sum_diff = @NLexpression(model, sum(squared_diff[i] for i=num_circles))\n",
    "\n",
    "@NLconstraint(model, intersection[i=num_circles], x[i] == 2*y[i])\n",
    "#@NLconstraint(model, [i=num_circles], x[i] == 2*y[i]) <-- constraints can be anonymous\n",
    "\n",
    "@NLobjective(model, Min, sum_diff)\n",
    "\n",
    "print(model)\n",
    "optimize!(model)\n",
    "\n",
    "for circle in num_circles\n",
    "    circle_r = value.(r)[circle]\n",
    "    circle_constraint = intersection[circle]\n",
    "    solution_x = round((value.(x)[circle]), digits = 3)\n",
    "    solution_y = round((value.(y)[circle]), digits = 3)\n",
    "    print(\"For circle with radius $circle_r and constraint $circle_constraint, solution x = $solution_x, y = $solution_y\")\n",
    "    print(\"\\n\")\n",
    "end\n",
    "print(\"\\n\")\n",
    "print(\"The output below shows the raw solutions stored internally:\\n\\n\")\n",
    "\n",
    "@show value.(x)\n",
    "@show value.(y)\n"
   ]
  }
 ],
 "metadata": {
  "kernelspec": {
   "display_name": "Julia 1.6.3",
   "language": "julia",
   "name": "julia-1.6"
  },
  "language_info": {
   "file_extension": ".jl",
   "mimetype": "application/julia",
   "name": "julia",
   "version": "1.6.3"
  },
  "orig_nbformat": 4
 },
 "nbformat": 4,
 "nbformat_minor": 2
}
