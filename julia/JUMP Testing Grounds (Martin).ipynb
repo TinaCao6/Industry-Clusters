{
 "cells": [
  {
   "cell_type": "code",
   "execution_count": 1,
   "id": "38f963e6-b946-48c8-ae10-83c687475807",
   "metadata": {},
   "outputs": [],
   "source": [
    "# do importing work in this tab\n",
    "using JuMP\n",
    "# using NLopt\n",
    "using Ipopt"
   ]
  },
  {
   "cell_type": "code",
   "execution_count": 14,
   "id": "213554fb-ffad-4e4f-b937-756ce15934b1",
   "metadata": {},
   "outputs": [
    {
     "data": {
      "text/latex": [
       "$$ \\begin{aligned}\n",
       "\\min\\quad & ((x * x + y * y) - 4.0) ^ {2.0}\\\\\n",
       "\\text{Subject to} \\quad & x \\geq 0.0\\\\\n",
       "\\end{aligned} $$"
      ]
     },
     "metadata": {},
     "output_type": "display_data"
    },
    {
     "name": "stdout",
     "output_type": "stream",
     "text": [
      "This is Ipopt version 3.14.4, running with linear solver MUMPS 5.4.1.\n",
      "\n",
      "Number of nonzeros in equality constraint Jacobian...:        0\n",
      "Number of nonzeros in inequality constraint Jacobian.:        0\n",
      "Number of nonzeros in Lagrangian Hessian.............:        3\n",
      "\n",
      "Total number of variables............................:        2\n",
      "                     variables with only lower bounds:        1\n",
      "                variables with lower and upper bounds:        0\n",
      "                     variables with only upper bounds:        0\n",
      "Total number of equality constraints.................:        0\n",
      "Total number of inequality constraints...............:        0\n",
      "        inequality constraints with only lower bounds:        0\n",
      "   inequality constraints with lower and upper bounds:        0\n",
      "        inequality constraints with only upper bounds:        0\n",
      "\n",
      "iter    objective    inf_pr   inf_du lg(mu)  ||d||  lg(rg) alpha_du alpha_pr  ls\n",
      "   0  1.5999200e+01 0.00e+00 1.16e+00  -1.0 0.00e+00    -  0.00e+00 0.00e+00   0\n",
      "   1  1.5965992e+01 0.00e+00 5.52e+00  -1.0 5.52e-02   2.0 1.00e+00 1.00e+00f  1\n",
      "   2  1.5927655e+01 0.00e+00 1.56e+00  -1.0 2.99e-02   1.5 8.87e-01 1.00e+00f  1\n",
      "   3  1.5864818e+01 0.00e+00 3.11e+00  -1.0 3.50e-02   1.9 1.00e+00 1.00e+00f  1\n",
      "   4  1.5461371e+01 0.00e+00 4.11e+00  -1.0 1.30e-01   1.5 7.86e-01 1.00e+00f  1\n",
      "   5  1.5136708e+01 0.00e+00 5.53e+00  -1.0 7.02e-02   1.9 1.00e+00 1.00e+00f  1\n",
      "   6  1.1749496e+01 0.00e+00 1.04e+01  -1.0 4.26e-01   1.4 6.63e-01 1.00e+00f  1\n",
      "   7  9.8478263e+00 0.00e+00 1.18e+01  -1.0 1.72e-01   1.8 1.00e+00 1.00e+00f  1\n",
      "   8  2.2078169e+00 0.00e+00 9.44e+00  -1.0 6.57e-01   1.4 1.00e+00 1.00e+00f  1\n",
      "   9  4.7593088e-03 0.00e+00 4.98e-01  -1.0 4.32e-01   0.9 1.00e+00 1.00e+00f  1\n",
      "iter    objective    inf_pr   inf_du lg(mu)  ||d||  lg(rg) alpha_du alpha_pr  ls\n",
      "  10  4.5586652e-06 0.00e+00 6.68e-03  -1.7 1.66e-02    -  1.00e+00 1.00e+00f  1\n",
      "  11  1.1215179e-10 0.00e+00 6.77e-06  -3.8 5.31e-04    -  1.00e+00 1.00e+00f  1\n",
      "  12  1.3302860e-14 0.00e+00 1.46e-10  -5.7 2.62e-06    -  1.00e+00 1.00e+00f  1\n",
      "  13  2.4529701e-20 0.00e+00 8.19e-15  -8.6 2.88e-08    -  1.00e+00 1.00e+00f  1\n",
      "\n",
      "Number of Iterations....: 13\n",
      "\n",
      "                                   (scaled)                 (unscaled)\n",
      "Objective...............:   2.4529701037810893e-20    2.4529701037810893e-20\n",
      "Dual infeasibility......:   8.1887935428955617e-15    8.1887935428955617e-15\n",
      "Constraint violation....:   0.0000000000000000e+00    0.0000000000000000e+00\n",
      "Variable bound violation:   0.0000000000000000e+00    0.0000000000000000e+00\n",
      "Complementarity.........:   2.5059300889841461e-09    2.5059300889841461e-09\n",
      "Overall NLP error.......:   2.5059300889841461e-09    2.5059300889841461e-09\n",
      "\n",
      "\n",
      "Number of objective function evaluations             = 14\n",
      "Number of objective gradient evaluations             = 14\n",
      "Number of equality constraint evaluations            = 0\n",
      "Number of inequality constraint evaluations          = 0\n",
      "Number of equality constraint Jacobian evaluations   = 0\n",
      "Number of inequality constraint Jacobian evaluations = 0\n",
      "Number of Lagrangian Hessian evaluations             = 13\n",
      "Total seconds in IPOPT                               = 0.006\n",
      "\n",
      "EXIT: Optimal Solution Found.\n",
      "value(x) = 2.000000000039155\n",
      "value(y) = 0.0\n"
     ]
    }
   ],
   "source": [
    "# function diff(x,y)\n",
    "#     return )\n",
    "# end\n",
    "\n",
    "model = Model(Ipopt.Optimizer)\n",
    "@variable(model, x >= 0)\n",
    "@variable(model, y)\n",
    "@NLobjective(model, Min, (x*x+y*y-4)^2)\n",
    "#@constraint(model, x*x + y*y == 4)\n",
    "print(model)\n",
    "optimize!(model)\n",
    "@show value(x)\n",
    "@show value(y)\n",
    ";"
   ]
  },
  {
   "cell_type": "code",
   "execution_count": 3,
   "id": "5a837bfd-a5e8-4122-8e96-7f531815f5e1",
   "metadata": {},
   "outputs": [],
   "source": [
    "#We find that JuMP doesn't work exactly how you'd want it to, i.e. >=0 doesn't mean literally what it says and JuMP is not guaranteed to find a true solution.\n",
    "#Notice that the answers we get, sqrt(2) for both x and y, do not minimise x+y. Something closer to x=2, y=0 would be more correct, but JuMP somehow doesn't find it."
   ]
  }
 ],
 "metadata": {
  "kernelspec": {
   "display_name": "Julia 1.6.3",
   "language": "julia",
   "name": "julia-1.6"
  },
  "language_info": {
   "file_extension": ".jl",
   "mimetype": "application/julia",
   "name": "julia",
   "version": "1.6.3"
  }
 },
 "nbformat": 4,
 "nbformat_minor": 5
}
